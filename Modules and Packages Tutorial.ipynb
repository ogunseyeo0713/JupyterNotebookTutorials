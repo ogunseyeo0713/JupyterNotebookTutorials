{
 "cells": [
  {
   "cell_type": "code",
   "execution_count": 1,
   "id": "08823b81",
   "metadata": {},
   "outputs": [
    {
     "name": "stdout",
     "output_type": "stream",
     "text": [
      "['findall', 'finditer']\n"
     ]
    }
   ],
   "source": [
    "import re\n",
    "\n",
    "\n",
    "find_members = []\n",
    "for member in dir(re):\n",
    "    if \"find\" in member:\n",
    "        find_members.append(member)\n",
    "\n",
    "print(sorted(find_members))"
   ]
  },
  {
   "cell_type": "code",
   "execution_count": null,
   "id": "2873dfb5",
   "metadata": {},
   "outputs": [],
   "source": []
  }
 ],
 "metadata": {
  "kernelspec": {
   "display_name": "Python 3 (ipykernel)",
   "language": "python",
   "name": "python3"
  },
  "language_info": {
   "codemirror_mode": {
    "name": "ipython",
    "version": 3
   },
   "file_extension": ".py",
   "mimetype": "text/x-python",
   "name": "python",
   "nbconvert_exporter": "python",
   "pygments_lexer": "ipython3",
   "version": "3.9.7"
  }
 },
 "nbformat": 4,
 "nbformat_minor": 5
}
